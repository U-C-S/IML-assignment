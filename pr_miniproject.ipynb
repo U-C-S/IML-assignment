{
  "cells": [
    {
      "cell_type": "code",
      "execution_count": 62,
      "metadata": {
        "id": "HWlkPZhGabP1"
      },
      "outputs": [],
      "source": [
        "%matplotlib inline"
      ]
    },
    {
      "cell_type": "markdown",
      "metadata": {
        "id": "zUL0YjbxQJv_"
      },
      "source": [
        "# **Load the dataset**"
      ]
    },
    {
      "cell_type": "code",
      "execution_count": 63,
      "metadata": {
        "id": "AEHzpIfTvvLF"
      },
      "outputs": [],
      "source": [
        "import json\n",
        "\n",
        "with open('data.json', 'r') as file:\n",
        "  content = file.read()\n",
        "dataset = json.loads(content)"
      ]
    },
    {
      "cell_type": "code",
      "execution_count": null,
      "metadata": {
        "id": "ZuMbNmg8wgAU"
      },
      "outputs": [],
      "source": [
        "dataset"
      ]
    },
    {
      "cell_type": "code",
      "execution_count": 65,
      "metadata": {
        "colab": {
          "base_uri": "https://localhost:8080/"
        },
        "id": "Z6p0ROnhwhr5",
        "outputId": "1d80e873-f11d-42b3-f793-b1f39c76f8e9"
      },
      "outputs": [
        {
          "name": "stdout",
          "output_type": "stream",
          "text": [
            "['yat-chanakya room', 'yat-chanakya room', 'yat-chanakya room', 'yat-chanakya room', 'yat-chanakya room', 'yat-chanakya room', 'yat-chanakya room', 'center hall', 'center hall', 'center hall', 'center hall', 'center hall', 'center hall', 'kitchen', 'kitchen', 'kitchen', 'kitchen', 'kitchen', 'kitchen', 'kitchen', 'kitchen', 'kitchen', 'kitchen', 'kitchen', 'kitchen', 'guptesh room', 'guptesh room', 'guptesh room', 'guptesh room', 'guptesh room', 'guptesh room', 'guptesh room', 'guptesh room', 'guptesh room', 'guptesh room', 'guptesh room', 'guptesh room']\n",
            "[{'Crucio b4:a7:c6:b5:ee:e6': -44, 'Avada Kedavra b4:a7:c6:b5:ee:e7': -63, 'Emerald_5G 6c:df:fb:2e:c5:e2': -81, 'Personal_hotspot 6e:df:fb:2e:c5:e2': -81, 'Emerald_2G 6c:df:fb:2e:c5:e1': -81, 'Suraj f4:f2:6d:4f:8f:ca': -83, 'saanvika 70:97:41:cf:52:50': -85, 'Mohan kumar_5GHz f8:0c:58:73:87:6d': -86, ' fa:0c:58:43:87:6d': -87}, {'Crucio b4:a7:c6:b5:ee:e6': -53, 'Avada Kedavra b4:a7:c6:b5:ee:e7': -63, 'yuktha 70:97:41:cf:52:4f': -79, ' fa:0c:58:43:87:6d': -82, 'saanvika 70:97:41:cf:52:50': -83, 'Mohan kumar_5GHz f8:0c:58:73:87:6d': -84, 'Mohan kumar f8:0c:58:73:87:69': -85}, {'Crucio b4:a7:c6:b5:ee:e6': -39, 'Avada Kedavra b4:a7:c6:b5:ee:e7': -51, 'saanvika 70:97:41:cf:52:50': -74, 'Emerald_2G 6c:df:fb:2e:c5:e1': -84, 'Mohan kumar f8:0c:58:73:87:69': -84, 'Mohan kumar_5GHz f8:0c:58:73:87:6d': -86, ' fa:0c:58:43:87:6d': -87}, {'Crucio b4:a7:c6:b5:ee:e6': -53, 'Avada Kedavra b4:a7:c6:b5:ee:e7': -64, 'Emerald_5G 6c:df:fb:2e:c5:e2': -77, 'Personal_hotspot 6e:df:fb:2e:c5:e2': -78, 'Emerald_2G 6c:df:fb:2e:c5:e1': -78, 'yuktha 70:97:41:cf:52:4f': -84}, {'Crucio b4:a7:c6:b5:ee:e6': -53, 'Avada Kedavra b4:a7:c6:b5:ee:e7': -67, 'yuktha 70:97:41:cf:52:4f': -75, 'Emerald_2G 6c:df:fb:2e:c5:e1': -79, 'saanvika 70:97:41:cf:52:50': -80, 'Suraj f4:f2:6d:4f:8f:ca': -82, ' 8a:97:41:cf:52:51': -82, 'Personal_hotspot 6e:df:fb:2e:c5:e2': -83, 'Emerald_5G 6c:df:fb:2e:c5:e2': -84, ' fa:0c:58:43:87:69': -87, 'Mohan kumar_5GHz f8:0c:58:73:87:6d': -87}, {'Crucio b4:a7:c6:b5:ee:e6': -55, ' 92:a7:c6:b5:ee:e8': -71, 'Avada Kedavra b4:a7:c6:b5:ee:e7': -72, 'yuktha 70:97:41:cf:52:4f': -74, 'Personal_hotspot 6e:df:fb:2e:c5:e2': -80, 'Emerald_5G 6c:df:fb:2e:c5:e2': -81, 'Suraj f4:f2:6d:4f:8f:ca': -81, 'Mohan kumar_5GHz f8:0c:58:73:87:6d': -83, ' fa:0c:58:43:87:69': -85, ' fa:0c:58:43:87:6d': -85, ' 8a:97:41:cf:52:51': -85, 'Mohan kumar f8:0c:58:73:87:69': -86, 'Sri bc:62:d2:40:cb:f0': -86, 'Emerald_2G 6c:df:fb:2e:c5:e1': -87}, {'Crucio b4:a7:c6:b5:ee:e6': -50, 'Avada Kedavra b4:a7:c6:b5:ee:e7': -68, 'yuktha 70:97:41:cf:52:4f': -78, 'Emerald_2G 6c:df:fb:2e:c5:e1': -83, ' 8a:97:41:cf:52:51': -83, 'Suraj f4:f2:6d:4f:8f:ca': -84, 'saanvika 70:97:41:cf:52:50': -84, ' fa:0c:58:43:87:6d': -85, ' fa:0c:58:43:87:69': -87}, {'Personal_hotspot 6e:df:fb:2e:c5:e2': -65, 'Emerald_5G 6c:df:fb:2e:c5:e2': -66, 'Crucio b4:a7:c6:b5:ee:e6': -68, 'Emerald_2G 6c:df:fb:2e:c5:e1': -70, 'yuktha 70:97:41:cf:52:4f': -71, 'Avada Kedavra b4:a7:c6:b5:ee:e7': -73, ' 92:a7:c6:b5:ee:e8': -82, ' fa:0c:58:43:87:69': -83, 'Suraj f4:f2:6d:4f:8f:ca': -84, 'Mohan kumar f8:0c:58:73:87:69': -88, ' fa:0c:58:43:87:6d': -89}, {'Emerald_5G 6c:df:fb:2e:c5:e2': -54, 'Personal_hotspot 6e:df:fb:2e:c5:e2': -54, 'Emerald_2G 6c:df:fb:2e:c5:e1': -69, 'Crucio b4:a7:c6:b5:ee:e6': -70, 'Avada Kedavra b4:a7:c6:b5:ee:e7': -73, 'Mohan kumar f8:0c:58:73:87:69': -88}, {'Crucio b4:a7:c6:b5:ee:e6': -69, 'Avada Kedavra b4:a7:c6:b5:ee:e7': -74, ' 8a:97:41:cf:52:51': -74, 'Emerald_2G 6c:df:fb:2e:c5:e1': -75, 'saanvika 70:97:41:cf:52:50': -75, 'yuktha 70:97:41:cf:52:4f': -78, 'Suraj f4:f2:6d:4f:8f:ca': -83}, {'Crucio b4:a7:c6:b5:ee:e6': -62, 'Emerald_5G 6c:df:fb:2e:c5:e2': -62, 'Personal_hotspot 6e:df:fb:2e:c5:e2': -62, 'Emerald_2G 6c:df:fb:2e:c5:e1': -72, 'Avada Kedavra b4:a7:c6:b5:ee:e7': -73, 'yuktha 70:97:41:cf:52:4f': -83, 'Mohan kumar f8:0c:58:73:87:69': -83, ' fa:0c:58:43:87:6d': -88}, {'Crucio b4:a7:c6:b5:ee:e6': -59, 'Personal_hotspot 6e:df:fb:2e:c5:e2': -64, 'Emerald_5G 6c:df:fb:2e:c5:e2': -65, 'Emerald_2G 6c:df:fb:2e:c5:e1': -72, 'Avada Kedavra b4:a7:c6:b5:ee:e7': -78, 'yuktha 70:97:41:cf:52:4f': -84, 'Hanuman2 70:97:41:cb:b3:43': -89}, {'Crucio b4:a7:c6:b5:ee:e6': -61, 'Avada Kedavra b4:a7:c6:b5:ee:e7': -66, 'Emerald_5G 6c:df:fb:2e:c5:e2': -74, 'Personal_hotspot 6e:df:fb:2e:c5:e2': -74, 'saanvika 70:97:41:cf:52:50': -82, ' 8a:97:41:cf:52:51': -82, 'Mohan kumar_5GHz f8:0c:58:73:87:6d': -83, 'yuktha 70:97:41:cf:52:4f': -85, 'Mohan kumar f8:0c:58:73:87:69': -86}, {'Emerald_5G 6c:df:fb:2e:c5:e2': -51, 'Personal_hotspot 6e:df:fb:2e:c5:e2': -51, 'Avada Kedavra b4:a7:c6:b5:ee:e7': -52, 'Emerald_2G 6c:df:fb:2e:c5:e1': -56, 'Mohan kumar_5GHz f8:0c:58:73:87:6d': -83, ' fa:0c:58:43:87:6d': -84}, {'Avada Kedavra b4:a7:c6:b5:ee:e7': -49, 'Crucio b4:a7:c6:b5:ee:e6': -49, 'Emerald_5G 6c:df:fb:2e:c5:e2': -59, 'Personal_hotspot 6e:df:fb:2e:c5:e2': -59, 'Emerald_2G 6c:df:fb:2e:c5:e1': -69, ' fa:0c:58:43:87:6d': -81, 'Mohan kumar f8:0c:58:73:87:69': -82, 'Mohan kumar_5GHz f8:0c:58:73:87:6d': -84}, {'Crucio b4:a7:c6:b5:ee:e6': -48, 'Emerald_5G 6c:df:fb:2e:c5:e2': -54, 'Personal_hotspot 6e:df:fb:2e:c5:e2': -54, 'Emerald_2G 6c:df:fb:2e:c5:e1': -55, 'Avada Kedavra b4:a7:c6:b5:ee:e7': -59}, {'Emerald_5G 6c:df:fb:2e:c5:e2': -47, 'Personal_hotspot 6e:df:fb:2e:c5:e2': -47, 'Emerald_2G 6c:df:fb:2e:c5:e1': -47, 'Avada Kedavra b4:a7:c6:b5:ee:e7': -52, 'Crucio b4:a7:c6:b5:ee:e6': -57, ' fa:0c:58:43:87:6d': -87, 'yuktha 70:97:41:cf:52:4f': -90}, {'Personal_hotspot 6e:df:fb:2e:c5:e2': -43, 'Emerald_5G 6c:df:fb:2e:c5:e2': -47, 'Avada Kedavra b4:a7:c6:b5:ee:e7': -48, 'Emerald_2G 6c:df:fb:2e:c5:e1': -48, 'Crucio b4:a7:c6:b5:ee:e6': -65, ' fa:0c:58:43:87:6d': -82, 'Mohan kumar_5GHz f8:0c:58:73:87:6d': -83}, {'Avada Kedavra b4:a7:c6:b5:ee:e7': -45, 'Emerald_5G 6c:df:fb:2e:c5:e2': -45, 'Personal_hotspot 6e:df:fb:2e:c5:e2': -45, 'Emerald_2G 6c:df:fb:2e:c5:e1': -50, 'Crucio b4:a7:c6:b5:ee:e6': -53, 'Mohan kumar_5GHz f8:0c:58:73:87:6d': -82}, {'Avada Kedavra b4:a7:c6:b5:ee:e7': -48, 'Crucio b4:a7:c6:b5:ee:e6': -48, 'Emerald_5G 6c:df:fb:2e:c5:e2': -52, 'Personal_hotspot 6e:df:fb:2e:c5:e2': -53, 'Emerald_2G 6c:df:fb:2e:c5:e1': -67, 'Suraj f4:f2:6d:4f:8f:ca': -85, 'saanvika 70:97:41:cf:52:50': -87, ' 8a:97:41:cf:52:51': -87, 'Mohan kumar f8:0c:58:73:87:69': -88}, {'Emerald_5G 6c:df:fb:2e:c5:e2': -56, 'Personal_hotspot 6e:df:fb:2e:c5:e2': -56, 'Crucio b4:a7:c6:b5:ee:e6': -57, 'Emerald_2G 6c:df:fb:2e:c5:e1': -62, 'Avada Kedavra b4:a7:c6:b5:ee:e7': -71}, {'Crucio b4:a7:c6:b5:ee:e6': -50, 'Avada Kedavra b4:a7:c6:b5:ee:e7': -56, 'Emerald_2G 6c:df:fb:2e:c5:e1': -62}, {'Avada Kedavra b4:a7:c6:b5:ee:e7': -50, 'Crucio b4:a7:c6:b5:ee:e6': -59, 'Personal_hotspot 6e:df:fb:2e:c5:e2': -59, 'Emerald_5G 6c:df:fb:2e:c5:e2': -60, ' fa:0c:58:43:87:6d': -71, 'Mohan kumar_5GHz f8:0c:58:73:87:6d': -71, 'Emerald_2G 6c:df:fb:2e:c5:e1': -78, 'Mohan kumar f8:0c:58:73:87:69': -82, 'Suraj f4:f2:6d:4f:8f:ca': -85}, {'Avada Kedavra b4:a7:c6:b5:ee:e7': -50, 'Emerald_5G 6c:df:fb:2e:c5:e2': -54, 'Personal_hotspot 6e:df:fb:2e:c5:e2': -54, 'Crucio b4:a7:c6:b5:ee:e6': -57, 'Mohan kumar f8:0c:58:73:87:69': -82, 'Mohan kumar_5GHz f8:0c:58:73:87:6d': -83, ' fa:0c:58:43:87:6d': -84}, {'Avada Kedavra b4:a7:c6:b5:ee:e7': -40, 'Crucio b4:a7:c6:b5:ee:e6': -45, 'Emerald_5G 6c:df:fb:2e:c5:e2': -59, 'Personal_hotspot 6e:df:fb:2e:c5:e2': -59, 'Emerald_2G 6c:df:fb:2e:c5:e1': -64, 'Mohan kumar_5GHz f8:0c:58:73:87:6d': -74, 'Suraj f4:f2:6d:4f:8f:ca': -85, 'saanvika 70:97:41:cf:52:50': -86, ' 8a:97:41:cf:52:51': -86, 'yuktha 70:97:41:cf:52:4f': -90}, {'Avada Kedavra b4:a7:c6:b5:ee:e7': -25, 'Crucio b4:a7:c6:b5:ee:e6': -33, 'Emerald_5G 6c:df:fb:2e:c5:e2': -57, 'Personal_hotspot 6e:df:fb:2e:c5:e2': -57, 'Mohan kumar_5GHz f8:0c:58:73:87:6d': -63, 'Emerald_2G 6c:df:fb:2e:c5:e1': -64, 'Mohan kumar f8:0c:58:73:87:69': -80, ' fa:0c:58:43:87:69': -85}, {'Crucio b4:a7:c6:b5:ee:e6': -39, 'Avada Kedavra b4:a7:c6:b5:ee:e7': -49, 'Mohan kumar_5GHz f8:0c:58:73:87:6d': -70, 'Emerald_5G 6c:df:fb:2e:c5:e2': -72, 'Personal_hotspot 6e:df:fb:2e:c5:e2': -72, 'Mohan kumar f8:0c:58:73:87:69': -73, ' fa:0c:58:43:87:69': -73, 'Suraj f4:f2:6d:4f:8f:ca': -86, 'yuktha 70:97:41:cf:52:4f': -87}, {'Avada Kedavra b4:a7:c6:b5:ee:e7': -27, 'Crucio b4:a7:c6:b5:ee:e6': -46, 'Emerald_5G 6c:df:fb:2e:c5:e2': -59, 'Personal_hotspot 6e:df:fb:2e:c5:e2': -60, 'Emerald_2G 6c:df:fb:2e:c5:e1': -69, ' fa:0c:58:43:87:6d': -76, 'Mohan kumar f8:0c:58:73:87:69': -78, 'Mohan kumar_5GHz f8:0c:58:73:87:6d': -85}, {'Avada Kedavra b4:a7:c6:b5:ee:e7': -34, 'Crucio b4:a7:c6:b5:ee:e6': -42, ' fa:0c:58:43:87:6d': -63, 'Emerald_5G 6c:df:fb:2e:c5:e2': -67, 'Personal_hotspot 6e:df:fb:2e:c5:e2': -68, 'Mohan kumar_5GHz f8:0c:58:73:87:6d': -69, 'Emerald_2G 6c:df:fb:2e:c5:e1': -82, 'Suraj f4:f2:6d:4f:8f:ca': -83, 'Mohan kumar f8:0c:58:73:87:69': -86}, {'Avada Kedavra b4:a7:c6:b5:ee:e7': -25, 'Crucio b4:a7:c6:b5:ee:e6': -32, ' fa:0c:58:43:87:6d': -56, 'Mohan kumar_5GHz f8:0c:58:73:87:6d': -57, 'Emerald_5G 6c:df:fb:2e:c5:e2': -63, 'Personal_hotspot 6e:df:fb:2e:c5:e2': -63, 'Emerald_2G 6c:df:fb:2e:c5:e1': -69, 'JioFi2_E9E495 c8:d7:79:e9:e4:95': -81, 'Suraj f4:f2:6d:4f:8f:ca': -85}, {'Crucio b4:a7:c6:b5:ee:e6': -36, 'Avada Kedavra b4:a7:c6:b5:ee:e7': -37, 'Emerald_5G 6c:df:fb:2e:c5:e2': -60, 'Personal_hotspot 6e:df:fb:2e:c5:e2': -60, 'Emerald_2G 6c:df:fb:2e:c5:e1': -71, 'Mohan kumar_5GHz f8:0c:58:73:87:6d': -83, 'Mohan kumar f8:0c:58:73:87:69': -85, 'yuktha 70:97:41:cf:52:4f': -85}, {'Avada Kedavra b4:a7:c6:b5:ee:e7': -31, 'Crucio b4:a7:c6:b5:ee:e6': -31, 'Emerald_5G 6c:df:fb:2e:c5:e2': -65, 'Personal_hotspot 6e:df:fb:2e:c5:e2': -67, 'Mohan kumar_5GHz f8:0c:58:73:87:6d': -71, 'JioFi2_E9E495 c8:d7:79:e9:e4:95': -81, 'Suraj f4:f2:6d:4f:8f:ca': -82, ' fa:0c:58:43:87:69': -82, 'Mohan kumar f8:0c:58:73:87:69': -83, 'yuktha 70:97:41:cf:52:4f': -87}, {'Avada Kedavra b4:a7:c6:b5:ee:e7': -33, 'Crucio b4:a7:c6:b5:ee:e6': -46, 'Emerald_5G 6c:df:fb:2e:c5:e2': -69, 'Personal_hotspot 6e:df:fb:2e:c5:e2': -70, 'Emerald_2G 6c:df:fb:2e:c5:e1': -72, 'Mohan kumar_5GHz f8:0c:58:73:87:6d': -73, 'Mohan kumar f8:0c:58:73:87:69': -81, 'Suraj f4:f2:6d:4f:8f:ca': -87}, {'Crucio b4:a7:c6:b5:ee:e6': -34, 'Avada Kedavra b4:a7:c6:b5:ee:e7': -37, 'Emerald_5G 6c:df:fb:2e:c5:e2': -64, 'Personal_hotspot 6e:df:fb:2e:c5:e2': -66, 'Emerald_2G 6c:df:fb:2e:c5:e1': -69, 'Mohan kumar_5GHz f8:0c:58:73:87:6d': -71, 'Suraj f4:f2:6d:4f:8f:ca': -79, ' fa:0c:58:43:87:69': -80, 'yuktha 70:97:41:cf:52:4f': -84, 'JioFi2_E9E495 c8:d7:79:e9:e4:95': -84, 'Mohan kumar f8:0c:58:73:87:69': -87}, {'Avada Kedavra b4:a7:c6:b5:ee:e7': -33, 'Crucio b4:a7:c6:b5:ee:e6': -43, 'Personal_hotspot 6e:df:fb:2e:c5:e2': -61, 'Emerald_5G 6c:df:fb:2e:c5:e2': -62, 'Mohan kumar_5GHz f8:0c:58:73:87:6d': -70, 'Emerald_2G 6c:df:fb:2e:c5:e1': -71, ' fa:0c:58:43:87:69': -73, 'Mohan kumar f8:0c:58:73:87:69': -76, 'Suraj f4:f2:6d:4f:8f:ca': -78, 'JioFi2_E9E495 c8:d7:79:e9:e4:95': -85}, {'Crucio b4:a7:c6:b5:ee:e6': -22, 'Avada Kedavra b4:a7:c6:b5:ee:e7': -30, 'Emerald_5G 6c:df:fb:2e:c5:e2': -70, 'Personal_hotspot 6e:df:fb:2e:c5:e2': -70, 'Mohan kumar_5GHz f8:0c:58:73:87:6d': -79, ' fa:0c:58:43:87:6d': -81, 'Suraj f4:f2:6d:4f:8f:ca': -81, 'JioFi2_E9E495 c8:d7:79:e9:e4:95': -83, 'Mohan kumar f8:0c:58:73:87:69': -85, 'yuktha 70:97:41:cf:52:4f': -85}, {'Avada Kedavra b4:a7:c6:b5:ee:e7': -24, 'Crucio b4:a7:c6:b5:ee:e6': -28, ' fa:0c:58:43:87:6d': -71, 'Mohan kumar_5GHz f8:0c:58:73:87:6d': -71, 'Personal_hotspot 6e:df:fb:2e:c5:e2': -76, 'Emerald_5G 6c:df:fb:2e:c5:e2': -77, 'Mohan kumar f8:0c:58:73:87:69': -79, 'yuktha 70:97:41:cf:52:4f': -83, 'Suraj f4:f2:6d:4f:8f:ca': -86}]\n"
          ]
        }
      ],
      "source": [
        "x = []\n",
        "y = []\n",
        "\n",
        "for item in dataset:\n",
        "  y.append(item['label'])\n",
        "  ap_map = dict()\n",
        "  for ap in item['ap_list']:\n",
        "    ap_map[ap['ssid_bssid']] = ap['signal_strength']\n",
        "  x.append(ap_map)\n",
        "\n",
        "print(y)\n",
        "print(x)"
      ]
    },
    {
      "cell_type": "markdown",
      "metadata": {
        "id": "REJ8ZKLISSlE"
      },
      "source": [
        "# **Data preprocessing**"
      ]
    },
    {
      "cell_type": "code",
      "execution_count": 66,
      "metadata": {
        "id": "2qEI13CyxUQp"
      },
      "outputs": [],
      "source": [
        "from sklearn.model_selection import train_test_split\n",
        "from sklearn.feature_extraction import DictVectorizer\n",
        "from sklearn.decomposition import PCA\n",
        "from sklearn.preprocessing import LabelEncoder\n",
        "\n",
        "dictVectorizer = DictVectorizer(sparse=False)\n",
        "label_encoder = LabelEncoder()\n",
        "\n",
        "X = dictVectorizer.fit_transform(x)\n",
        "Y = label_encoder.fit_transform(y)\n",
        "\n",
        "X, Xt, Y, Yt = train_test_split(X, Y, test_size=0.33, random_state=42)"
      ]
    },
    {
      "cell_type": "code",
      "execution_count": 67,
      "metadata": {
        "colab": {
          "base_uri": "https://localhost:8080/"
        },
        "id": "omqazo0pUNgl",
        "outputId": "90f3ef82-8350-4267-c57e-1ff147d12fe1"
      },
      "outputs": [
        {
          "name": "stdout",
          "output_type": "stream",
          "text": [
            "24\n",
            "24\n",
            "13\n",
            "13\n"
          ]
        }
      ],
      "source": [
        "print(len(X))\n",
        "print(len(Y))\n",
        "\n",
        "print(len(Xt))\n",
        "print(len(Yt))"
      ]
    },
    {
      "cell_type": "markdown",
      "metadata": {
        "id": "uXLkrjmwWYmh"
      },
      "source": [
        "### **k-Nearest Neighbour classifier**"
      ]
    },
    {
      "cell_type": "code",
      "execution_count": 68,
      "metadata": {
        "id": "b_nEnFolWMv7"
      },
      "outputs": [],
      "source": [
        "from sklearn.metrics import accuracy_score\n",
        "from matplotlib import pyplot as plt"
      ]
    },
    {
      "cell_type": "code",
      "execution_count": 71,
      "metadata": {
        "id": "O61ltzGhWXRX"
      },
      "outputs": [],
      "source": [
        "from sklearn.neighbors import KNeighborsClassifier\n",
        "neighbours = [2*k + 1 for k in range(1, 10)]\n",
        "accuracies = []\n",
        "for n in neighbours:\n",
        "  clf = KNeighborsClassifier(n_neighbors=n)\n",
        "  clf.fit(X, Y)\n",
        "  accuracies.append(accuracy_score(Yt, clf.predict(Xt)))"
      ]
    },
    {
      "cell_type": "code",
      "execution_count": 72,
      "metadata": {
        "colab": {
          "base_uri": "https://localhost:8080/",
          "height": 286
        },
        "id": "h-VkJ0tZXM9e",
        "outputId": "dbf77db4-d3f6-4ef9-c2e6-47df59694ec1"
      },
      "outputs": [
        {
          "data": {
            "text/plain": [
              "[<matplotlib.lines.Line2D at 0x7f6d2386ca90>]"
            ]
          },
          "execution_count": 72,
          "metadata": {},
          "output_type": "execute_result"
        },
        {
          "data": {
            "image/png": "[encoded data removed]",
            "text/plain": [
              "<Figure size 432x288 with 1 Axes>"
            ]
          },
          "metadata": {
            "needs_background": "light"
          },
          "output_type": "display_data"
        }
      ],
      "source": [
        "plt.xlim([neighbours[0], neighbours[-1]])\n",
        "plt.ylim([0, 1])\n",
        "plt.plot(neighbours, accuracies)"
      ]
    },
    {
      "cell_type": "markdown",
      "metadata": {
        "id": "6hEeF4wsYkq5"
      },
      "source": [
        "From the above plot we notice that n = 7 produces the best results on an average, hence that is the model we will consider"
      ]
    },
    {
      "cell_type": "code",
      "execution_count": 73,
      "metadata": {
        "colab": {
          "base_uri": "https://localhost:8080/"
        },
        "id": "xFGnaatgZs53",
        "outputId": "f70068e0-e063-46d2-b912-652bff82e7ed"
      },
      "outputs": [
        {
          "data": {
            "text/plain": [
              "0.6923076923076923"
            ]
          },
          "execution_count": 73,
          "metadata": {},
          "output_type": "execute_result"
        }
      ],
      "source": [
        "knn_acc = accuracies[2]\n",
        "knn_acc"
      ]
    }
  ],
  "metadata": {
    "colab": {
      "provenance": []
    },
    "kernelspec": {
      "display_name": "Python 3",
      "name": "python3"
    },
    "language_info": {
      "name": "python"
    }
  },
  "nbformat": 4,
  "nbformat_minor": 0
}
